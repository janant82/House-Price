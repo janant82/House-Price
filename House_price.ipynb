{
  "nbformat": 4,
  "nbformat_minor": 0,
  "metadata": {
    "colab": {
      "name": "House_price.ipynb",
      "provenance": [],
      "authorship_tag": "ABX9TyPcCCo7VYwXcHujdzC+H+qS",
      "include_colab_link": true
    },
    "kernelspec": {
      "name": "python3",
      "display_name": "Python 3"
    }
  },
  "cells": [
    {
      "cell_type": "markdown",
      "metadata": {
        "id": "view-in-github",
        "colab_type": "text"
      },
      "source": [
        "<a href=\"https://colab.research.google.com/github/karthikchary/House-Price/blob/master/House_price.ipynb\" target=\"_parent\"><img src=\"https://colab.research.google.com/assets/colab-badge.svg\" alt=\"Open In Colab\"/></a>"
      ]
    },
    {
      "cell_type": "code",
      "metadata": {
        "id": "o-7lWLBmbtkG",
        "colab_type": "code",
        "colab": {
          "base_uri": "https://localhost:8080/",
          "height": 71
        },
        "outputId": "18bb5419-58f9-43b4-c3b7-3f80d5d2e200"
      },
      "source": [
        "import os\n",
        "import numpy as np\n",
        "import pandas as pd\n",
        "import seaborn as sns\n",
        "import matplotlib.pyplot as plt"
      ],
      "execution_count": null,
      "outputs": [
        {
          "output_type": "stream",
          "text": [
            "/usr/local/lib/python3.6/dist-packages/statsmodels/tools/_testing.py:19: FutureWarning: pandas.util.testing is deprecated. Use the functions in the public API at pandas.testing instead.\n",
            "  import pandas.util.testing as tm\n"
          ],
          "name": "stderr"
        }
      ]
    },
    {
      "cell_type": "code",
      "metadata": {
        "id": "uxNVll26cQAv",
        "colab_type": "code",
        "colab": {}
      },
      "source": [
        "df = pd.read_csv('House_Price.csv',header=0)"
      ],
      "execution_count": null,
      "outputs": []
    },
    {
      "cell_type": "code",
      "metadata": {
        "id": "mRItrWcacdL8",
        "colab_type": "code",
        "colab": {
          "base_uri": "https://localhost:8080/",
          "height": 224
        },
        "outputId": "e49ececc-a75d-49eb-fc36-233d51bb25dc"
      },
      "source": [
        "df.head()"
      ],
      "execution_count": null,
      "outputs": [
        {
          "output_type": "execute_result",
          "data": {
            "text/html": [
              "<div>\n",
              "<style scoped>\n",
              "    .dataframe tbody tr th:only-of-type {\n",
              "        vertical-align: middle;\n",
              "    }\n",
              "\n",
              "    .dataframe tbody tr th {\n",
              "        vertical-align: top;\n",
              "    }\n",
              "\n",
              "    .dataframe thead th {\n",
              "        text-align: right;\n",
              "    }\n",
              "</style>\n",
              "<table border=\"1\" class=\"dataframe\">\n",
              "  <thead>\n",
              "    <tr style=\"text-align: right;\">\n",
              "      <th></th>\n",
              "      <th>price</th>\n",
              "      <th>crime_rate</th>\n",
              "      <th>resid_area</th>\n",
              "      <th>air_qual</th>\n",
              "      <th>room_num</th>\n",
              "      <th>age</th>\n",
              "      <th>dist1</th>\n",
              "      <th>dist2</th>\n",
              "      <th>dist3</th>\n",
              "      <th>dist4</th>\n",
              "      <th>teachers</th>\n",
              "      <th>poor_prop</th>\n",
              "      <th>airport</th>\n",
              "      <th>n_hos_beds</th>\n",
              "      <th>n_hot_rooms</th>\n",
              "      <th>waterbody</th>\n",
              "      <th>rainfall</th>\n",
              "      <th>bus_ter</th>\n",
              "      <th>parks</th>\n",
              "    </tr>\n",
              "  </thead>\n",
              "  <tbody>\n",
              "    <tr>\n",
              "      <th>0</th>\n",
              "      <td>24.0</td>\n",
              "      <td>0.00632</td>\n",
              "      <td>32.31</td>\n",
              "      <td>0.538</td>\n",
              "      <td>6.575</td>\n",
              "      <td>65.2</td>\n",
              "      <td>4.35</td>\n",
              "      <td>3.81</td>\n",
              "      <td>4.18</td>\n",
              "      <td>4.01</td>\n",
              "      <td>24.7</td>\n",
              "      <td>4.98</td>\n",
              "      <td>YES</td>\n",
              "      <td>5.480</td>\n",
              "      <td>11.1920</td>\n",
              "      <td>River</td>\n",
              "      <td>23</td>\n",
              "      <td>YES</td>\n",
              "      <td>0.049347</td>\n",
              "    </tr>\n",
              "    <tr>\n",
              "      <th>1</th>\n",
              "      <td>21.6</td>\n",
              "      <td>0.02731</td>\n",
              "      <td>37.07</td>\n",
              "      <td>0.469</td>\n",
              "      <td>6.421</td>\n",
              "      <td>78.9</td>\n",
              "      <td>4.99</td>\n",
              "      <td>4.70</td>\n",
              "      <td>5.12</td>\n",
              "      <td>5.06</td>\n",
              "      <td>22.2</td>\n",
              "      <td>9.14</td>\n",
              "      <td>NO</td>\n",
              "      <td>7.332</td>\n",
              "      <td>12.1728</td>\n",
              "      <td>Lake</td>\n",
              "      <td>42</td>\n",
              "      <td>YES</td>\n",
              "      <td>0.046146</td>\n",
              "    </tr>\n",
              "    <tr>\n",
              "      <th>2</th>\n",
              "      <td>34.7</td>\n",
              "      <td>0.02729</td>\n",
              "      <td>37.07</td>\n",
              "      <td>0.469</td>\n",
              "      <td>7.185</td>\n",
              "      <td>61.1</td>\n",
              "      <td>5.03</td>\n",
              "      <td>4.86</td>\n",
              "      <td>5.01</td>\n",
              "      <td>4.97</td>\n",
              "      <td>22.2</td>\n",
              "      <td>4.03</td>\n",
              "      <td>NO</td>\n",
              "      <td>7.394</td>\n",
              "      <td>101.1200</td>\n",
              "      <td>None</td>\n",
              "      <td>38</td>\n",
              "      <td>YES</td>\n",
              "      <td>0.045764</td>\n",
              "    </tr>\n",
              "    <tr>\n",
              "      <th>3</th>\n",
              "      <td>33.4</td>\n",
              "      <td>0.03237</td>\n",
              "      <td>32.18</td>\n",
              "      <td>0.458</td>\n",
              "      <td>6.998</td>\n",
              "      <td>45.8</td>\n",
              "      <td>6.21</td>\n",
              "      <td>5.93</td>\n",
              "      <td>6.16</td>\n",
              "      <td>5.96</td>\n",
              "      <td>21.3</td>\n",
              "      <td>2.94</td>\n",
              "      <td>YES</td>\n",
              "      <td>9.268</td>\n",
              "      <td>11.2672</td>\n",
              "      <td>Lake</td>\n",
              "      <td>45</td>\n",
              "      <td>YES</td>\n",
              "      <td>0.047151</td>\n",
              "    </tr>\n",
              "    <tr>\n",
              "      <th>4</th>\n",
              "      <td>36.2</td>\n",
              "      <td>0.06905</td>\n",
              "      <td>32.18</td>\n",
              "      <td>0.458</td>\n",
              "      <td>7.147</td>\n",
              "      <td>54.2</td>\n",
              "      <td>6.16</td>\n",
              "      <td>5.86</td>\n",
              "      <td>6.37</td>\n",
              "      <td>5.86</td>\n",
              "      <td>21.3</td>\n",
              "      <td>5.33</td>\n",
              "      <td>NO</td>\n",
              "      <td>8.824</td>\n",
              "      <td>11.2896</td>\n",
              "      <td>Lake</td>\n",
              "      <td>55</td>\n",
              "      <td>YES</td>\n",
              "      <td>0.039474</td>\n",
              "    </tr>\n",
              "  </tbody>\n",
              "</table>\n",
              "</div>"
            ],
            "text/plain": [
              "   price  crime_rate  resid_area  ...  rainfall  bus_ter     parks\n",
              "0   24.0     0.00632       32.31  ...        23      YES  0.049347\n",
              "1   21.6     0.02731       37.07  ...        42      YES  0.046146\n",
              "2   34.7     0.02729       37.07  ...        38      YES  0.045764\n",
              "3   33.4     0.03237       32.18  ...        45      YES  0.047151\n",
              "4   36.2     0.06905       32.18  ...        55      YES  0.039474\n",
              "\n",
              "[5 rows x 19 columns]"
            ]
          },
          "metadata": {
            "tags": []
          },
          "execution_count": 3
        }
      ]
    },
    {
      "cell_type": "code",
      "metadata": {
        "id": "69ajPcSvQSpR",
        "colab_type": "code",
        "colab": {
          "base_uri": "https://localhost:8080/",
          "height": 34
        },
        "outputId": "65b81091-9b4c-49f3-de4d-4d121f45e2a3"
      },
      "source": [
        "df.shape"
      ],
      "execution_count": null,
      "outputs": [
        {
          "output_type": "execute_result",
          "data": {
            "text/plain": [
              "(506, 19)"
            ]
          },
          "metadata": {
            "tags": []
          },
          "execution_count": 35
        }
      ]
    },
    {
      "cell_type": "code",
      "metadata": {
        "id": "VdwTlxxDckY7",
        "colab_type": "code",
        "colab": {
          "base_uri": "https://localhost:8080/",
          "height": 459
        },
        "outputId": "0a170829-ea4b-473b-c7c2-19498934c691"
      },
      "source": [
        "df.info()"
      ],
      "execution_count": null,
      "outputs": [
        {
          "output_type": "stream",
          "text": [
            "<class 'pandas.core.frame.DataFrame'>\n",
            "RangeIndex: 506 entries, 0 to 505\n",
            "Data columns (total 19 columns):\n",
            " #   Column       Non-Null Count  Dtype  \n",
            "---  ------       --------------  -----  \n",
            " 0   price        506 non-null    float64\n",
            " 1   crime_rate   506 non-null    float64\n",
            " 2   resid_area   506 non-null    float64\n",
            " 3   air_qual     506 non-null    float64\n",
            " 4   room_num     506 non-null    float64\n",
            " 5   age          506 non-null    float64\n",
            " 6   dist1        506 non-null    float64\n",
            " 7   dist2        506 non-null    float64\n",
            " 8   dist3        506 non-null    float64\n",
            " 9   dist4        506 non-null    float64\n",
            " 10  teachers     506 non-null    float64\n",
            " 11  poor_prop    506 non-null    float64\n",
            " 12  airport      506 non-null    object \n",
            " 13  n_hos_beds   498 non-null    float64\n",
            " 14  n_hot_rooms  506 non-null    float64\n",
            " 15  waterbody    506 non-null    object \n",
            " 16  rainfall     506 non-null    int64  \n",
            " 17  bus_ter      506 non-null    object \n",
            " 18  parks        506 non-null    float64\n",
            "dtypes: float64(15), int64(1), object(3)\n",
            "memory usage: 75.2+ KB\n"
          ],
          "name": "stdout"
        }
      ]
    },
    {
      "cell_type": "code",
      "metadata": {
        "id": "C60WUjvgeKw3",
        "colab_type": "code",
        "colab": {
          "base_uri": "https://localhost:8080/",
          "height": 317
        },
        "outputId": "eb88429f-4632-43b3-fdbc-acd1df575927"
      },
      "source": [
        "df.describe()"
      ],
      "execution_count": null,
      "outputs": [
        {
          "output_type": "execute_result",
          "data": {
            "text/html": [
              "<div>\n",
              "<style scoped>\n",
              "    .dataframe tbody tr th:only-of-type {\n",
              "        vertical-align: middle;\n",
              "    }\n",
              "\n",
              "    .dataframe tbody tr th {\n",
              "        vertical-align: top;\n",
              "    }\n",
              "\n",
              "    .dataframe thead th {\n",
              "        text-align: right;\n",
              "    }\n",
              "</style>\n",
              "<table border=\"1\" class=\"dataframe\">\n",
              "  <thead>\n",
              "    <tr style=\"text-align: right;\">\n",
              "      <th></th>\n",
              "      <th>price</th>\n",
              "      <th>crime_rate</th>\n",
              "      <th>resid_area</th>\n",
              "      <th>air_qual</th>\n",
              "      <th>room_num</th>\n",
              "      <th>age</th>\n",
              "      <th>dist1</th>\n",
              "      <th>dist2</th>\n",
              "      <th>dist3</th>\n",
              "      <th>dist4</th>\n",
              "      <th>teachers</th>\n",
              "      <th>poor_prop</th>\n",
              "      <th>n_hos_beds</th>\n",
              "      <th>n_hot_rooms</th>\n",
              "      <th>rainfall</th>\n",
              "      <th>parks</th>\n",
              "    </tr>\n",
              "  </thead>\n",
              "  <tbody>\n",
              "    <tr>\n",
              "      <th>count</th>\n",
              "      <td>506.000000</td>\n",
              "      <td>506.000000</td>\n",
              "      <td>506.000000</td>\n",
              "      <td>506.000000</td>\n",
              "      <td>506.000000</td>\n",
              "      <td>506.000000</td>\n",
              "      <td>506.000000</td>\n",
              "      <td>506.000000</td>\n",
              "      <td>506.000000</td>\n",
              "      <td>506.000000</td>\n",
              "      <td>506.000000</td>\n",
              "      <td>506.000000</td>\n",
              "      <td>498.000000</td>\n",
              "      <td>506.000000</td>\n",
              "      <td>506.000000</td>\n",
              "      <td>506.000000</td>\n",
              "    </tr>\n",
              "    <tr>\n",
              "      <th>mean</th>\n",
              "      <td>22.528854</td>\n",
              "      <td>3.613524</td>\n",
              "      <td>41.136779</td>\n",
              "      <td>0.554695</td>\n",
              "      <td>6.284634</td>\n",
              "      <td>68.574901</td>\n",
              "      <td>3.971996</td>\n",
              "      <td>3.628775</td>\n",
              "      <td>3.960672</td>\n",
              "      <td>3.618972</td>\n",
              "      <td>21.544466</td>\n",
              "      <td>12.653063</td>\n",
              "      <td>7.899767</td>\n",
              "      <td>13.041605</td>\n",
              "      <td>39.181818</td>\n",
              "      <td>0.054454</td>\n",
              "    </tr>\n",
              "    <tr>\n",
              "      <th>std</th>\n",
              "      <td>9.182176</td>\n",
              "      <td>8.601545</td>\n",
              "      <td>6.860353</td>\n",
              "      <td>0.115878</td>\n",
              "      <td>0.702617</td>\n",
              "      <td>28.148861</td>\n",
              "      <td>2.108532</td>\n",
              "      <td>2.108580</td>\n",
              "      <td>2.119797</td>\n",
              "      <td>2.099203</td>\n",
              "      <td>2.164946</td>\n",
              "      <td>7.141062</td>\n",
              "      <td>1.476683</td>\n",
              "      <td>5.238957</td>\n",
              "      <td>12.513697</td>\n",
              "      <td>0.010632</td>\n",
              "    </tr>\n",
              "    <tr>\n",
              "      <th>min</th>\n",
              "      <td>5.000000</td>\n",
              "      <td>0.006320</td>\n",
              "      <td>30.460000</td>\n",
              "      <td>0.385000</td>\n",
              "      <td>3.561000</td>\n",
              "      <td>2.900000</td>\n",
              "      <td>1.130000</td>\n",
              "      <td>0.920000</td>\n",
              "      <td>1.150000</td>\n",
              "      <td>0.730000</td>\n",
              "      <td>18.000000</td>\n",
              "      <td>1.730000</td>\n",
              "      <td>5.268000</td>\n",
              "      <td>10.057600</td>\n",
              "      <td>3.000000</td>\n",
              "      <td>0.033292</td>\n",
              "    </tr>\n",
              "    <tr>\n",
              "      <th>25%</th>\n",
              "      <td>17.025000</td>\n",
              "      <td>0.082045</td>\n",
              "      <td>35.190000</td>\n",
              "      <td>0.449000</td>\n",
              "      <td>5.885500</td>\n",
              "      <td>45.025000</td>\n",
              "      <td>2.270000</td>\n",
              "      <td>1.940000</td>\n",
              "      <td>2.232500</td>\n",
              "      <td>1.940000</td>\n",
              "      <td>19.800000</td>\n",
              "      <td>6.950000</td>\n",
              "      <td>6.634500</td>\n",
              "      <td>11.189800</td>\n",
              "      <td>28.000000</td>\n",
              "      <td>0.046464</td>\n",
              "    </tr>\n",
              "    <tr>\n",
              "      <th>50%</th>\n",
              "      <td>21.200000</td>\n",
              "      <td>0.256510</td>\n",
              "      <td>39.690000</td>\n",
              "      <td>0.538000</td>\n",
              "      <td>6.208500</td>\n",
              "      <td>77.500000</td>\n",
              "      <td>3.385000</td>\n",
              "      <td>3.010000</td>\n",
              "      <td>3.375000</td>\n",
              "      <td>3.070000</td>\n",
              "      <td>20.950000</td>\n",
              "      <td>11.360000</td>\n",
              "      <td>7.999000</td>\n",
              "      <td>12.720000</td>\n",
              "      <td>39.000000</td>\n",
              "      <td>0.053507</td>\n",
              "    </tr>\n",
              "    <tr>\n",
              "      <th>75%</th>\n",
              "      <td>25.000000</td>\n",
              "      <td>3.677082</td>\n",
              "      <td>48.100000</td>\n",
              "      <td>0.624000</td>\n",
              "      <td>6.623500</td>\n",
              "      <td>94.075000</td>\n",
              "      <td>5.367500</td>\n",
              "      <td>4.992500</td>\n",
              "      <td>5.407500</td>\n",
              "      <td>4.985000</td>\n",
              "      <td>22.600000</td>\n",
              "      <td>16.955000</td>\n",
              "      <td>9.088000</td>\n",
              "      <td>14.170800</td>\n",
              "      <td>50.000000</td>\n",
              "      <td>0.061397</td>\n",
              "    </tr>\n",
              "    <tr>\n",
              "      <th>max</th>\n",
              "      <td>50.000000</td>\n",
              "      <td>88.976200</td>\n",
              "      <td>57.740000</td>\n",
              "      <td>0.871000</td>\n",
              "      <td>8.780000</td>\n",
              "      <td>100.000000</td>\n",
              "      <td>12.320000</td>\n",
              "      <td>11.930000</td>\n",
              "      <td>12.320000</td>\n",
              "      <td>11.940000</td>\n",
              "      <td>27.400000</td>\n",
              "      <td>37.970000</td>\n",
              "      <td>10.876000</td>\n",
              "      <td>101.120000</td>\n",
              "      <td>60.000000</td>\n",
              "      <td>0.086711</td>\n",
              "    </tr>\n",
              "  </tbody>\n",
              "</table>\n",
              "</div>"
            ],
            "text/plain": [
              "            price  crime_rate  resid_area  ...  n_hot_rooms    rainfall       parks\n",
              "count  506.000000  506.000000  506.000000  ...   506.000000  506.000000  506.000000\n",
              "mean    22.528854    3.613524   41.136779  ...    13.041605   39.181818    0.054454\n",
              "std      9.182176    8.601545    6.860353  ...     5.238957   12.513697    0.010632\n",
              "min      5.000000    0.006320   30.460000  ...    10.057600    3.000000    0.033292\n",
              "25%     17.025000    0.082045   35.190000  ...    11.189800   28.000000    0.046464\n",
              "50%     21.200000    0.256510   39.690000  ...    12.720000   39.000000    0.053507\n",
              "75%     25.000000    3.677082   48.100000  ...    14.170800   50.000000    0.061397\n",
              "max     50.000000   88.976200   57.740000  ...   101.120000   60.000000    0.086711\n",
              "\n",
              "[8 rows x 16 columns]"
            ]
          },
          "metadata": {
            "tags": []
          },
          "execution_count": 5
        }
      ]
    },
    {
      "cell_type": "code",
      "metadata": {
        "id": "JYOoPYlJeTzq",
        "colab_type": "code",
        "colab": {
          "base_uri": "https://localhost:8080/",
          "height": 357
        },
        "outputId": "881fcb1a-8f35-4b6e-c676-602b1e32c5d2"
      },
      "source": [
        "df.isnull().sum()"
      ],
      "execution_count": null,
      "outputs": [
        {
          "output_type": "execute_result",
          "data": {
            "text/plain": [
              "price          0\n",
              "crime_rate     0\n",
              "resid_area     0\n",
              "air_qual       0\n",
              "room_num       0\n",
              "age            0\n",
              "dist1          0\n",
              "dist2          0\n",
              "dist3          0\n",
              "dist4          0\n",
              "teachers       0\n",
              "poor_prop      0\n",
              "airport        0\n",
              "n_hos_beds     8\n",
              "n_hot_rooms    0\n",
              "waterbody      0\n",
              "rainfall       0\n",
              "bus_ter        0\n",
              "parks          0\n",
              "dtype: int64"
            ]
          },
          "metadata": {
            "tags": []
          },
          "execution_count": 6
        }
      ]
    },
    {
      "cell_type": "code",
      "metadata": {
        "id": "IROC-b9LgMHL",
        "colab_type": "code",
        "colab": {
          "base_uri": "https://localhost:8080/",
          "height": 441
        },
        "outputId": "5a1a5233-e5df-4a3a-c571-cf692dc1e16f"
      },
      "source": [
        "sns.jointplot(x='n_hot_rooms',y='price',data=df)\n",
        "plt.show()"
      ],
      "execution_count": null,
      "outputs": [
        {
          "output_type": "display_data",
          "data": {
            "image/png": "[encoded data removed]",
            "text/plain": [
              "<Figure size 432x432 with 3 Axes>"
            ]
          },
          "metadata": {
            "tags": [],
            "needs_background": "light"
          }
        }
      ]
    },
    {
      "cell_type": "code",
      "metadata": {
        "id": "a7_io4zAhcR4",
        "colab_type": "code",
        "colab": {
          "base_uri": "https://localhost:8080/",
          "height": 441
        },
        "outputId": "22d9f664-55d6-4236-9e2d-965eb5be79cf"
      },
      "source": [
        "sns.jointplot(x='rainfall',y='price',data=df)\n",
        "plt.show()"
      ],
      "execution_count": null,
      "outputs": [
        {
          "output_type": "display_data",
          "data": {
            "image/png": "[encoded data removed]",
            "text/plain": [
              "<Figure size 432x432 with 3 Axes>"
            ]
          },
          "metadata": {
            "tags": [],
            "needs_background": "light"
          }
        }
      ]
    },
    {
      "cell_type": "code",
      "metadata": {
        "id": "DpFt6r5NiIpj",
        "colab_type": "code",
        "colab": {
          "base_uri": "https://localhost:8080/",
          "height": 296
        },
        "outputId": "a1f499da-db9e-4829-922c-aecb9ae02d55"
      },
      "source": [
        "sns.countplot(x='airport',data=df)\n",
        "plt.legend()\n",
        "plt.show()"
      ],
      "execution_count": null,
      "outputs": [
        {
          "output_type": "stream",
          "text": [
            "No handles with labels found to put in legend.\n"
          ],
          "name": "stderr"
        },
        {
          "output_type": "display_data",
          "data": {
            "image/png": "[encoded data removed]",
            "text/plain": [
              "<Figure size 432x288 with 1 Axes>"
            ]
          },
          "metadata": {
            "tags": [],
            "needs_background": "light"
          }
        }
      ]
    },
    {
      "cell_type": "code",
      "metadata": {
        "id": "qT-bDBWFi_NO",
        "colab_type": "code",
        "colab": {
          "base_uri": "https://localhost:8080/",
          "height": 279
        },
        "outputId": "b1cd17f6-e8f9-43b6-d999-e0576eafdf7f"
      },
      "source": [
        "sns.countplot(x='waterbody',data=df)\n",
        "plt.show()"
      ],
      "execution_count": null,
      "outputs": [
        {
          "output_type": "display_data",
          "data": {
            "image/png": "[encoded data removed]",
            "text/plain": [
              "<Figure size 432x288 with 1 Axes>"
            ]
          },
          "metadata": {
            "tags": [],
            "needs_background": "light"
          }
        }
      ]
    },
    {
      "cell_type": "code",
      "metadata": {
        "id": "GLvuH8SzjVmu",
        "colab_type": "code",
        "colab": {
          "base_uri": "https://localhost:8080/",
          "height": 280
        },
        "outputId": "62eeed00-a0cd-4da8-d773-0a5d5a35ae3a"
      },
      "source": [
        "sns.countplot(x='bus_ter',data=df)\n",
        "plt.show()"
      ],
      "execution_count": null,
      "outputs": [
        {
          "output_type": "display_data",
          "data": {
            "image/png": "[encoded data removed]",
            "text/plain": [
              "<Figure size 432x288 with 1 Axes>"
            ]
          },
          "metadata": {
            "tags": [],
            "needs_background": "light"
          }
        }
      ]
    },
    {
      "cell_type": "code",
      "metadata": {
        "id": "NiYGITQyjnz5",
        "colab_type": "code",
        "colab": {
          "base_uri": "https://localhost:8080/",
          "height": 459
        },
        "outputId": "67188acd-6a9f-4935-cbdb-a4604356029b"
      },
      "source": [
        "df.info()"
      ],
      "execution_count": null,
      "outputs": [
        {
          "output_type": "stream",
          "text": [
            "<class 'pandas.core.frame.DataFrame'>\n",
            "RangeIndex: 506 entries, 0 to 505\n",
            "Data columns (total 19 columns):\n",
            " #   Column       Non-Null Count  Dtype  \n",
            "---  ------       --------------  -----  \n",
            " 0   price        506 non-null    float64\n",
            " 1   crime_rate   506 non-null    float64\n",
            " 2   resid_area   506 non-null    float64\n",
            " 3   air_qual     506 non-null    float64\n",
            " 4   room_num     506 non-null    float64\n",
            " 5   age          506 non-null    float64\n",
            " 6   dist1        506 non-null    float64\n",
            " 7   dist2        506 non-null    float64\n",
            " 8   dist3        506 non-null    float64\n",
            " 9   dist4        506 non-null    float64\n",
            " 10  teachers     506 non-null    float64\n",
            " 11  poor_prop    506 non-null    float64\n",
            " 12  airport      506 non-null    object \n",
            " 13  n_hos_beds   498 non-null    float64\n",
            " 14  n_hot_rooms  506 non-null    float64\n",
            " 15  waterbody    506 non-null    object \n",
            " 16  rainfall     506 non-null    int64  \n",
            " 17  bus_ter      506 non-null    object \n",
            " 18  parks        506 non-null    float64\n",
            "dtypes: float64(15), int64(1), object(3)\n",
            "memory usage: 75.2+ KB\n"
          ],
          "name": "stdout"
        }
      ]
    },
    {
      "cell_type": "code",
      "metadata": {
        "id": "Qg3mDG9jm-rz",
        "colab_type": "code",
        "colab": {
          "base_uri": "https://localhost:8080/",
          "height": 34
        },
        "outputId": "a801ea83-4cd5-48bd-9ab4-c05e90392ed1"
      },
      "source": [
        "np.percentile(df.n_hot_rooms,[99])"
      ],
      "execution_count": null,
      "outputs": [
        {
          "output_type": "execute_result",
          "data": {
            "text/plain": [
              "array([15.39952])"
            ]
          },
          "metadata": {
            "tags": []
          },
          "execution_count": 14
        }
      ]
    },
    {
      "cell_type": "code",
      "metadata": {
        "id": "RQVrGcKHnhst",
        "colab_type": "code",
        "colab": {}
      },
      "source": [
        "uv = np.percentile(df.n_hot_rooms,[99])[0]"
      ],
      "execution_count": null,
      "outputs": []
    },
    {
      "cell_type": "code",
      "metadata": {
        "id": "FpV5rRumn_Tg",
        "colab_type": "code",
        "colab": {
          "base_uri": "https://localhost:8080/",
          "height": 255
        },
        "outputId": "cec9f538-ce6a-409e-a0d6-8cd68fe8bdb6"
      },
      "source": [
        "df[(df.n_hot_rooms > uv)]"
      ],
      "execution_count": null,
      "outputs": [
        {
          "output_type": "execute_result",
          "data": {
            "text/html": [
              "<div>\n",
              "<style scoped>\n",
              "    .dataframe tbody tr th:only-of-type {\n",
              "        vertical-align: middle;\n",
              "    }\n",
              "\n",
              "    .dataframe tbody tr th {\n",
              "        vertical-align: top;\n",
              "    }\n",
              "\n",
              "    .dataframe thead th {\n",
              "        text-align: right;\n",
              "    }\n",
              "</style>\n",
              "<table border=\"1\" class=\"dataframe\">\n",
              "  <thead>\n",
              "    <tr style=\"text-align: right;\">\n",
              "      <th></th>\n",
              "      <th>price</th>\n",
              "      <th>crime_rate</th>\n",
              "      <th>resid_area</th>\n",
              "      <th>air_qual</th>\n",
              "      <th>room_num</th>\n",
              "      <th>age</th>\n",
              "      <th>dist1</th>\n",
              "      <th>dist2</th>\n",
              "      <th>dist3</th>\n",
              "      <th>dist4</th>\n",
              "      <th>teachers</th>\n",
              "      <th>poor_prop</th>\n",
              "      <th>airport</th>\n",
              "      <th>n_hos_beds</th>\n",
              "      <th>n_hot_rooms</th>\n",
              "      <th>waterbody</th>\n",
              "      <th>rainfall</th>\n",
              "      <th>bus_ter</th>\n",
              "      <th>parks</th>\n",
              "    </tr>\n",
              "  </thead>\n",
              "  <tbody>\n",
              "    <tr>\n",
              "      <th>2</th>\n",
              "      <td>34.7</td>\n",
              "      <td>0.02729</td>\n",
              "      <td>37.07</td>\n",
              "      <td>0.4690</td>\n",
              "      <td>7.185</td>\n",
              "      <td>61.1</td>\n",
              "      <td>5.03</td>\n",
              "      <td>4.86</td>\n",
              "      <td>5.01</td>\n",
              "      <td>4.97</td>\n",
              "      <td>22.2</td>\n",
              "      <td>4.03</td>\n",
              "      <td>NO</td>\n",
              "      <td>7.394</td>\n",
              "      <td>101.12</td>\n",
              "      <td>None</td>\n",
              "      <td>38</td>\n",
              "      <td>YES</td>\n",
              "      <td>0.045764</td>\n",
              "    </tr>\n",
              "    <tr>\n",
              "      <th>166</th>\n",
              "      <td>50.0</td>\n",
              "      <td>2.01019</td>\n",
              "      <td>49.58</td>\n",
              "      <td>0.6050</td>\n",
              "      <td>7.929</td>\n",
              "      <td>96.2</td>\n",
              "      <td>2.11</td>\n",
              "      <td>1.91</td>\n",
              "      <td>2.31</td>\n",
              "      <td>1.86</td>\n",
              "      <td>25.3</td>\n",
              "      <td>3.70</td>\n",
              "      <td>YES</td>\n",
              "      <td>8.300</td>\n",
              "      <td>15.40</td>\n",
              "      <td>River</td>\n",
              "      <td>37</td>\n",
              "      <td>YES</td>\n",
              "      <td>0.052105</td>\n",
              "    </tr>\n",
              "    <tr>\n",
              "      <th>204</th>\n",
              "      <td>50.0</td>\n",
              "      <td>0.02009</td>\n",
              "      <td>32.68</td>\n",
              "      <td>0.4161</td>\n",
              "      <td>8.034</td>\n",
              "      <td>31.9</td>\n",
              "      <td>5.41</td>\n",
              "      <td>4.80</td>\n",
              "      <td>5.28</td>\n",
              "      <td>4.99</td>\n",
              "      <td>25.3</td>\n",
              "      <td>2.88</td>\n",
              "      <td>YES</td>\n",
              "      <td>8.900</td>\n",
              "      <td>15.40</td>\n",
              "      <td>River</td>\n",
              "      <td>51</td>\n",
              "      <td>YES</td>\n",
              "      <td>0.044178</td>\n",
              "    </tr>\n",
              "    <tr>\n",
              "      <th>267</th>\n",
              "      <td>50.0</td>\n",
              "      <td>0.57834</td>\n",
              "      <td>33.97</td>\n",
              "      <td>0.5750</td>\n",
              "      <td>8.297</td>\n",
              "      <td>67.0</td>\n",
              "      <td>2.60</td>\n",
              "      <td>2.13</td>\n",
              "      <td>2.43</td>\n",
              "      <td>2.52</td>\n",
              "      <td>27.0</td>\n",
              "      <td>7.44</td>\n",
              "      <td>YES</td>\n",
              "      <td>8.000</td>\n",
              "      <td>15.40</td>\n",
              "      <td>None</td>\n",
              "      <td>42</td>\n",
              "      <td>YES</td>\n",
              "      <td>0.063235</td>\n",
              "    </tr>\n",
              "    <tr>\n",
              "      <th>369</th>\n",
              "      <td>50.0</td>\n",
              "      <td>5.66998</td>\n",
              "      <td>48.10</td>\n",
              "      <td>0.6310</td>\n",
              "      <td>6.683</td>\n",
              "      <td>96.8</td>\n",
              "      <td>1.55</td>\n",
              "      <td>1.28</td>\n",
              "      <td>1.65</td>\n",
              "      <td>0.94</td>\n",
              "      <td>19.8</td>\n",
              "      <td>3.73</td>\n",
              "      <td>YES</td>\n",
              "      <td>6.700</td>\n",
              "      <td>15.40</td>\n",
              "      <td>River</td>\n",
              "      <td>58</td>\n",
              "      <td>YES</td>\n",
              "      <td>0.067477</td>\n",
              "    </tr>\n",
              "    <tr>\n",
              "      <th>423</th>\n",
              "      <td>13.4</td>\n",
              "      <td>7.05042</td>\n",
              "      <td>48.10</td>\n",
              "      <td>0.6140</td>\n",
              "      <td>6.103</td>\n",
              "      <td>85.1</td>\n",
              "      <td>2.08</td>\n",
              "      <td>1.80</td>\n",
              "      <td>2.34</td>\n",
              "      <td>1.87</td>\n",
              "      <td>19.8</td>\n",
              "      <td>23.29</td>\n",
              "      <td>NO</td>\n",
              "      <td>8.268</td>\n",
              "      <td>81.12</td>\n",
              "      <td>Lake</td>\n",
              "      <td>29</td>\n",
              "      <td>YES</td>\n",
              "      <td>0.063344</td>\n",
              "    </tr>\n",
              "  </tbody>\n",
              "</table>\n",
              "</div>"
            ],
            "text/plain": [
              "     price  crime_rate  resid_area  ...  rainfall  bus_ter     parks\n",
              "2     34.7     0.02729       37.07  ...        38      YES  0.045764\n",
              "166   50.0     2.01019       49.58  ...        37      YES  0.052105\n",
              "204   50.0     0.02009       32.68  ...        51      YES  0.044178\n",
              "267   50.0     0.57834       33.97  ...        42      YES  0.063235\n",
              "369   50.0     5.66998       48.10  ...        58      YES  0.067477\n",
              "423   13.4     7.05042       48.10  ...        29      YES  0.063344\n",
              "\n",
              "[6 rows x 19 columns]"
            ]
          },
          "metadata": {
            "tags": []
          },
          "execution_count": 17
        }
      ]
    },
    {
      "cell_type": "code",
      "metadata": {
        "id": "_nM5nlsUofpe",
        "colab_type": "code",
        "colab": {
          "base_uri": "https://localhost:8080/",
          "height": 122
        },
        "outputId": "623cfbe4-d219-41f7-aa6c-3a9e57b5afbb"
      },
      "source": [
        "df.n_hot_rooms[(df.n_hot_rooms > 3*uv)] = 3*uv"
      ],
      "execution_count": null,
      "outputs": [
        {
          "output_type": "stream",
          "text": [
            "/usr/local/lib/python3.6/dist-packages/ipykernel_launcher.py:1: SettingWithCopyWarning: \n",
            "A value is trying to be set on a copy of a slice from a DataFrame\n",
            "\n",
            "See the caveats in the documentation: https://pandas.pydata.org/pandas-docs/stable/user_guide/indexing.html#returning-a-view-versus-a-copy\n",
            "  \"\"\"Entry point for launching an IPython kernel.\n"
          ],
          "name": "stderr"
        }
      ]
    },
    {
      "cell_type": "code",
      "metadata": {
        "id": "MMW4P8odpUaZ",
        "colab_type": "code",
        "colab": {
          "base_uri": "https://localhost:8080/",
          "height": 255
        },
        "outputId": "4a02da85-d9f5-4244-f085-f16e0556002b"
      },
      "source": [
        "df[(df.n_hot_rooms > uv)]"
      ],
      "execution_count": null,
      "outputs": [
        {
          "output_type": "execute_result",
          "data": {
            "text/html": [
              "<div>\n",
              "<style scoped>\n",
              "    .dataframe tbody tr th:only-of-type {\n",
              "        vertical-align: middle;\n",
              "    }\n",
              "\n",
              "    .dataframe tbody tr th {\n",
              "        vertical-align: top;\n",
              "    }\n",
              "\n",
              "    .dataframe thead th {\n",
              "        text-align: right;\n",
              "    }\n",
              "</style>\n",
              "<table border=\"1\" class=\"dataframe\">\n",
              "  <thead>\n",
              "    <tr style=\"text-align: right;\">\n",
              "      <th></th>\n",
              "      <th>price</th>\n",
              "      <th>crime_rate</th>\n",
              "      <th>resid_area</th>\n",
              "      <th>air_qual</th>\n",
              "      <th>room_num</th>\n",
              "      <th>age</th>\n",
              "      <th>dist1</th>\n",
              "      <th>dist2</th>\n",
              "      <th>dist3</th>\n",
              "      <th>dist4</th>\n",
              "      <th>teachers</th>\n",
              "      <th>poor_prop</th>\n",
              "      <th>airport</th>\n",
              "      <th>n_hos_beds</th>\n",
              "      <th>n_hot_rooms</th>\n",
              "      <th>waterbody</th>\n",
              "      <th>rainfall</th>\n",
              "      <th>bus_ter</th>\n",
              "      <th>parks</th>\n",
              "    </tr>\n",
              "  </thead>\n",
              "  <tbody>\n",
              "    <tr>\n",
              "      <th>2</th>\n",
              "      <td>34.7</td>\n",
              "      <td>0.02729</td>\n",
              "      <td>37.07</td>\n",
              "      <td>0.4690</td>\n",
              "      <td>7.185</td>\n",
              "      <td>61.1</td>\n",
              "      <td>5.03</td>\n",
              "      <td>4.86</td>\n",
              "      <td>5.01</td>\n",
              "      <td>4.97</td>\n",
              "      <td>22.2</td>\n",
              "      <td>4.03</td>\n",
              "      <td>NO</td>\n",
              "      <td>7.394</td>\n",
              "      <td>46.19856</td>\n",
              "      <td>None</td>\n",
              "      <td>38</td>\n",
              "      <td>YES</td>\n",
              "      <td>0.045764</td>\n",
              "    </tr>\n",
              "    <tr>\n",
              "      <th>166</th>\n",
              "      <td>50.0</td>\n",
              "      <td>2.01019</td>\n",
              "      <td>49.58</td>\n",
              "      <td>0.6050</td>\n",
              "      <td>7.929</td>\n",
              "      <td>96.2</td>\n",
              "      <td>2.11</td>\n",
              "      <td>1.91</td>\n",
              "      <td>2.31</td>\n",
              "      <td>1.86</td>\n",
              "      <td>25.3</td>\n",
              "      <td>3.70</td>\n",
              "      <td>YES</td>\n",
              "      <td>8.300</td>\n",
              "      <td>15.40000</td>\n",
              "      <td>River</td>\n",
              "      <td>37</td>\n",
              "      <td>YES</td>\n",
              "      <td>0.052105</td>\n",
              "    </tr>\n",
              "    <tr>\n",
              "      <th>204</th>\n",
              "      <td>50.0</td>\n",
              "      <td>0.02009</td>\n",
              "      <td>32.68</td>\n",
              "      <td>0.4161</td>\n",
              "      <td>8.034</td>\n",
              "      <td>31.9</td>\n",
              "      <td>5.41</td>\n",
              "      <td>4.80</td>\n",
              "      <td>5.28</td>\n",
              "      <td>4.99</td>\n",
              "      <td>25.3</td>\n",
              "      <td>2.88</td>\n",
              "      <td>YES</td>\n",
              "      <td>8.900</td>\n",
              "      <td>15.40000</td>\n",
              "      <td>River</td>\n",
              "      <td>51</td>\n",
              "      <td>YES</td>\n",
              "      <td>0.044178</td>\n",
              "    </tr>\n",
              "    <tr>\n",
              "      <th>267</th>\n",
              "      <td>50.0</td>\n",
              "      <td>0.57834</td>\n",
              "      <td>33.97</td>\n",
              "      <td>0.5750</td>\n",
              "      <td>8.297</td>\n",
              "      <td>67.0</td>\n",
              "      <td>2.60</td>\n",
              "      <td>2.13</td>\n",
              "      <td>2.43</td>\n",
              "      <td>2.52</td>\n",
              "      <td>27.0</td>\n",
              "      <td>7.44</td>\n",
              "      <td>YES</td>\n",
              "      <td>8.000</td>\n",
              "      <td>15.40000</td>\n",
              "      <td>None</td>\n",
              "      <td>42</td>\n",
              "      <td>YES</td>\n",
              "      <td>0.063235</td>\n",
              "    </tr>\n",
              "    <tr>\n",
              "      <th>369</th>\n",
              "      <td>50.0</td>\n",
              "      <td>5.66998</td>\n",
              "      <td>48.10</td>\n",
              "      <td>0.6310</td>\n",
              "      <td>6.683</td>\n",
              "      <td>96.8</td>\n",
              "      <td>1.55</td>\n",
              "      <td>1.28</td>\n",
              "      <td>1.65</td>\n",
              "      <td>0.94</td>\n",
              "      <td>19.8</td>\n",
              "      <td>3.73</td>\n",
              "      <td>YES</td>\n",
              "      <td>6.700</td>\n",
              "      <td>15.40000</td>\n",
              "      <td>River</td>\n",
              "      <td>58</td>\n",
              "      <td>YES</td>\n",
              "      <td>0.067477</td>\n",
              "    </tr>\n",
              "    <tr>\n",
              "      <th>423</th>\n",
              "      <td>13.4</td>\n",
              "      <td>7.05042</td>\n",
              "      <td>48.10</td>\n",
              "      <td>0.6140</td>\n",
              "      <td>6.103</td>\n",
              "      <td>85.1</td>\n",
              "      <td>2.08</td>\n",
              "      <td>1.80</td>\n",
              "      <td>2.34</td>\n",
              "      <td>1.87</td>\n",
              "      <td>19.8</td>\n",
              "      <td>23.29</td>\n",
              "      <td>NO</td>\n",
              "      <td>8.268</td>\n",
              "      <td>46.19856</td>\n",
              "      <td>Lake</td>\n",
              "      <td>29</td>\n",
              "      <td>YES</td>\n",
              "      <td>0.063344</td>\n",
              "    </tr>\n",
              "  </tbody>\n",
              "</table>\n",
              "</div>"
            ],
            "text/plain": [
              "     price  crime_rate  resid_area  ...  rainfall  bus_ter     parks\n",
              "2     34.7     0.02729       37.07  ...        38      YES  0.045764\n",
              "166   50.0     2.01019       49.58  ...        37      YES  0.052105\n",
              "204   50.0     0.02009       32.68  ...        51      YES  0.044178\n",
              "267   50.0     0.57834       33.97  ...        42      YES  0.063235\n",
              "369   50.0     5.66998       48.10  ...        58      YES  0.067477\n",
              "423   13.4     7.05042       48.10  ...        29      YES  0.063344\n",
              "\n",
              "[6 rows x 19 columns]"
            ]
          },
          "metadata": {
            "tags": []
          },
          "execution_count": 19
        }
      ]
    },
    {
      "cell_type": "code",
      "metadata": {
        "id": "AHIEFjJepWcg",
        "colab_type": "code",
        "colab": {}
      },
      "source": [
        "lv = np.percentile(df.rainfall,[1])[0]"
      ],
      "execution_count": null,
      "outputs": []
    },
    {
      "cell_type": "code",
      "metadata": {
        "id": "QTUtuUCepzBz",
        "colab_type": "code",
        "colab": {
          "base_uri": "https://localhost:8080/",
          "height": 34
        },
        "outputId": "3c8b81d0-d9e8-404b-af0b-f75bbc6f5eed"
      },
      "source": [
        "lv"
      ],
      "execution_count": null,
      "outputs": [
        {
          "output_type": "execute_result",
          "data": {
            "text/plain": [
              "20.0"
            ]
          },
          "metadata": {
            "tags": []
          },
          "execution_count": 22
        }
      ]
    },
    {
      "cell_type": "code",
      "metadata": {
        "id": "KbrVDc4lp9AO",
        "colab_type": "code",
        "colab": {
          "base_uri": "https://localhost:8080/",
          "height": 100
        },
        "outputId": "6e578f84-fe1b-42a5-cdd2-e71101026ebe"
      },
      "source": [
        "df[(df.rainfall < lv)]"
      ],
      "execution_count": null,
      "outputs": [
        {
          "output_type": "execute_result",
          "data": {
            "text/html": [
              "<div>\n",
              "<style scoped>\n",
              "    .dataframe tbody tr th:only-of-type {\n",
              "        vertical-align: middle;\n",
              "    }\n",
              "\n",
              "    .dataframe tbody tr th {\n",
              "        vertical-align: top;\n",
              "    }\n",
              "\n",
              "    .dataframe thead th {\n",
              "        text-align: right;\n",
              "    }\n",
              "</style>\n",
              "<table border=\"1\" class=\"dataframe\">\n",
              "  <thead>\n",
              "    <tr style=\"text-align: right;\">\n",
              "      <th></th>\n",
              "      <th>price</th>\n",
              "      <th>crime_rate</th>\n",
              "      <th>resid_area</th>\n",
              "      <th>air_qual</th>\n",
              "      <th>room_num</th>\n",
              "      <th>age</th>\n",
              "      <th>dist1</th>\n",
              "      <th>dist2</th>\n",
              "      <th>dist3</th>\n",
              "      <th>dist4</th>\n",
              "      <th>teachers</th>\n",
              "      <th>poor_prop</th>\n",
              "      <th>airport</th>\n",
              "      <th>n_hos_beds</th>\n",
              "      <th>n_hot_rooms</th>\n",
              "      <th>waterbody</th>\n",
              "      <th>rainfall</th>\n",
              "      <th>bus_ter</th>\n",
              "      <th>parks</th>\n",
              "    </tr>\n",
              "  </thead>\n",
              "  <tbody>\n",
              "    <tr>\n",
              "      <th>213</th>\n",
              "      <td>28.1</td>\n",
              "      <td>0.14052</td>\n",
              "      <td>40.59</td>\n",
              "      <td>0.489</td>\n",
              "      <td>6.375</td>\n",
              "      <td>32.3</td>\n",
              "      <td>4.11</td>\n",
              "      <td>3.92</td>\n",
              "      <td>4.18</td>\n",
              "      <td>3.57</td>\n",
              "      <td>21.4</td>\n",
              "      <td>9.38</td>\n",
              "      <td>YES</td>\n",
              "      <td>7.562</td>\n",
              "      <td>10.2248</td>\n",
              "      <td>None</td>\n",
              "      <td>3</td>\n",
              "      <td>YES</td>\n",
              "      <td>0.044019</td>\n",
              "    </tr>\n",
              "  </tbody>\n",
              "</table>\n",
              "</div>"
            ],
            "text/plain": [
              "     price  crime_rate  resid_area  ...  rainfall  bus_ter     parks\n",
              "213   28.1     0.14052       40.59  ...         3      YES  0.044019\n",
              "\n",
              "[1 rows x 19 columns]"
            ]
          },
          "metadata": {
            "tags": []
          },
          "execution_count": 23
        }
      ]
    },
    {
      "cell_type": "code",
      "metadata": {
        "id": "XI2W0bW-qqrw",
        "colab_type": "code",
        "colab": {
          "base_uri": "https://localhost:8080/",
          "height": 122
        },
        "outputId": "26215dbc-8f03-4143-dc56-daaa5d42d684"
      },
      "source": [
        "df.rainfall[(df.rainfall < 0.3*lv)] = 0.3*lv"
      ],
      "execution_count": null,
      "outputs": [
        {
          "output_type": "stream",
          "text": [
            "/usr/local/lib/python3.6/dist-packages/ipykernel_launcher.py:1: SettingWithCopyWarning: \n",
            "A value is trying to be set on a copy of a slice from a DataFrame\n",
            "\n",
            "See the caveats in the documentation: https://pandas.pydata.org/pandas-docs/stable/user_guide/indexing.html#returning-a-view-versus-a-copy\n",
            "  \"\"\"Entry point for launching an IPython kernel.\n"
          ],
          "name": "stderr"
        }
      ]
    },
    {
      "cell_type": "code",
      "metadata": {
        "id": "2HfJn3WVrE0W",
        "colab_type": "code",
        "colab": {
          "base_uri": "https://localhost:8080/",
          "height": 100
        },
        "outputId": "d82bf2f9-d79c-44c8-e695-c1f92ed44c0c"
      },
      "source": [
        "df[(df.rainfall < lv)]"
      ],
      "execution_count": null,
      "outputs": [
        {
          "output_type": "execute_result",
          "data": {
            "text/html": [
              "<div>\n",
              "<style scoped>\n",
              "    .dataframe tbody tr th:only-of-type {\n",
              "        vertical-align: middle;\n",
              "    }\n",
              "\n",
              "    .dataframe tbody tr th {\n",
              "        vertical-align: top;\n",
              "    }\n",
              "\n",
              "    .dataframe thead th {\n",
              "        text-align: right;\n",
              "    }\n",
              "</style>\n",
              "<table border=\"1\" class=\"dataframe\">\n",
              "  <thead>\n",
              "    <tr style=\"text-align: right;\">\n",
              "      <th></th>\n",
              "      <th>price</th>\n",
              "      <th>crime_rate</th>\n",
              "      <th>resid_area</th>\n",
              "      <th>air_qual</th>\n",
              "      <th>room_num</th>\n",
              "      <th>age</th>\n",
              "      <th>dist1</th>\n",
              "      <th>dist2</th>\n",
              "      <th>dist3</th>\n",
              "      <th>dist4</th>\n",
              "      <th>teachers</th>\n",
              "      <th>poor_prop</th>\n",
              "      <th>airport</th>\n",
              "      <th>n_hos_beds</th>\n",
              "      <th>n_hot_rooms</th>\n",
              "      <th>waterbody</th>\n",
              "      <th>rainfall</th>\n",
              "      <th>bus_ter</th>\n",
              "      <th>parks</th>\n",
              "    </tr>\n",
              "  </thead>\n",
              "  <tbody>\n",
              "    <tr>\n",
              "      <th>213</th>\n",
              "      <td>28.1</td>\n",
              "      <td>0.14052</td>\n",
              "      <td>40.59</td>\n",
              "      <td>0.489</td>\n",
              "      <td>6.375</td>\n",
              "      <td>32.3</td>\n",
              "      <td>4.11</td>\n",
              "      <td>3.92</td>\n",
              "      <td>4.18</td>\n",
              "      <td>3.57</td>\n",
              "      <td>21.4</td>\n",
              "      <td>9.38</td>\n",
              "      <td>YES</td>\n",
              "      <td>7.562</td>\n",
              "      <td>10.2248</td>\n",
              "      <td>None</td>\n",
              "      <td>6</td>\n",
              "      <td>YES</td>\n",
              "      <td>0.044019</td>\n",
              "    </tr>\n",
              "  </tbody>\n",
              "</table>\n",
              "</div>"
            ],
            "text/plain": [
              "     price  crime_rate  resid_area  ...  rainfall  bus_ter     parks\n",
              "213   28.1     0.14052       40.59  ...         6      YES  0.044019\n",
              "\n",
              "[1 rows x 19 columns]"
            ]
          },
          "metadata": {
            "tags": []
          },
          "execution_count": 25
        }
      ]
    },
    {
      "cell_type": "code",
      "metadata": {
        "id": "FAt_5cCsrGoI",
        "colab_type": "code",
        "colab": {
          "base_uri": "https://localhost:8080/",
          "height": 441
        },
        "outputId": "fbde836c-c172-442b-dfd3-a1b5c9d1edae"
      },
      "source": [
        "sns.jointplot(x='n_hot_rooms',y='price',data=df)\n",
        "plt.show()"
      ],
      "execution_count": null,
      "outputs": [
        {
          "output_type": "display_data",
          "data": {
            "image/png": "[encoded data removed]",
            "text/plain": [
              "<Figure size 432x432 with 3 Axes>"
            ]
          },
          "metadata": {
            "tags": [],
            "needs_background": "light"
          }
        }
      ]
    },
    {
      "cell_type": "code",
      "metadata": {
        "id": "PkMOIprTrfZP",
        "colab_type": "code",
        "colab": {
          "base_uri": "https://localhost:8080/",
          "height": 441
        },
        "outputId": "38515731-8960-44c2-a378-2e6f24f01e73"
      },
      "source": [
        "sns.jointplot(x='rainfall',y='price',data=df)\n",
        "plt.show()"
      ],
      "execution_count": null,
      "outputs": [
        {
          "output_type": "display_data",
          "data": {
            "image/png": "[encoded data removed]",
            "text/plain": [
              "<Figure size 432x432 with 3 Axes>"
            ]
          },
          "metadata": {
            "tags": [],
            "needs_background": "light"
          }
        }
      ]
    },
    {
      "cell_type": "code",
      "metadata": {
        "id": "OF-IxotSrtdI",
        "colab_type": "code",
        "colab": {
          "base_uri": "https://localhost:8080/",
          "height": 441
        },
        "outputId": "4cd074af-5136-42bc-9db0-0f45a781ef73"
      },
      "source": [
        "sns.jointplot(x='crime_rate',y='price',data=df)\n",
        "plt.show()"
      ],
      "execution_count": null,
      "outputs": [
        {
          "output_type": "display_data",
          "data": {
            "image/png": "[encoded data removed]",
            "text/plain": [
              "<Figure size 432x432 with 3 Axes>"
            ]
          },
          "metadata": {
            "tags": [],
            "needs_background": "light"
          }
        }
      ]
    },
    {
      "cell_type": "code",
      "metadata": {
        "id": "ZwCi5A5hsD1D",
        "colab_type": "code",
        "colab": {
          "base_uri": "https://localhost:8080/",
          "height": 317
        },
        "outputId": "24d2f49a-4e29-43c4-81b9-ca87a6773321"
      },
      "source": [
        "df.describe()"
      ],
      "execution_count": null,
      "outputs": [
        {
          "output_type": "execute_result",
          "data": {
            "text/html": [
              "<div>\n",
              "<style scoped>\n",
              "    .dataframe tbody tr th:only-of-type {\n",
              "        vertical-align: middle;\n",
              "    }\n",
              "\n",
              "    .dataframe tbody tr th {\n",
              "        vertical-align: top;\n",
              "    }\n",
              "\n",
              "    .dataframe thead th {\n",
              "        text-align: right;\n",
              "    }\n",
              "</style>\n",
              "<table border=\"1\" class=\"dataframe\">\n",
              "  <thead>\n",
              "    <tr style=\"text-align: right;\">\n",
              "      <th></th>\n",
              "      <th>price</th>\n",
              "      <th>crime_rate</th>\n",
              "      <th>resid_area</th>\n",
              "      <th>air_qual</th>\n",
              "      <th>room_num</th>\n",
              "      <th>age</th>\n",
              "      <th>dist1</th>\n",
              "      <th>dist2</th>\n",
              "      <th>dist3</th>\n",
              "      <th>dist4</th>\n",
              "      <th>teachers</th>\n",
              "      <th>poor_prop</th>\n",
              "      <th>n_hos_beds</th>\n",
              "      <th>n_hot_rooms</th>\n",
              "      <th>rainfall</th>\n",
              "      <th>parks</th>\n",
              "    </tr>\n",
              "  </thead>\n",
              "  <tbody>\n",
              "    <tr>\n",
              "      <th>count</th>\n",
              "      <td>506.000000</td>\n",
              "      <td>506.000000</td>\n",
              "      <td>506.000000</td>\n",
              "      <td>506.000000</td>\n",
              "      <td>506.000000</td>\n",
              "      <td>506.000000</td>\n",
              "      <td>506.000000</td>\n",
              "      <td>506.000000</td>\n",
              "      <td>506.000000</td>\n",
              "      <td>506.000000</td>\n",
              "      <td>506.000000</td>\n",
              "      <td>506.000000</td>\n",
              "      <td>498.000000</td>\n",
              "      <td>506.000000</td>\n",
              "      <td>506.000000</td>\n",
              "      <td>506.000000</td>\n",
              "    </tr>\n",
              "    <tr>\n",
              "      <th>mean</th>\n",
              "      <td>22.528854</td>\n",
              "      <td>3.613524</td>\n",
              "      <td>41.136779</td>\n",
              "      <td>0.554695</td>\n",
              "      <td>6.284634</td>\n",
              "      <td>68.574901</td>\n",
              "      <td>3.971996</td>\n",
              "      <td>3.628775</td>\n",
              "      <td>3.960672</td>\n",
              "      <td>3.618972</td>\n",
              "      <td>21.544466</td>\n",
              "      <td>12.653063</td>\n",
              "      <td>7.899767</td>\n",
              "      <td>12.864050</td>\n",
              "      <td>39.187747</td>\n",
              "      <td>0.054454</td>\n",
              "    </tr>\n",
              "    <tr>\n",
              "      <th>std</th>\n",
              "      <td>9.182176</td>\n",
              "      <td>8.601545</td>\n",
              "      <td>6.860353</td>\n",
              "      <td>0.115878</td>\n",
              "      <td>0.702617</td>\n",
              "      <td>28.148861</td>\n",
              "      <td>2.108532</td>\n",
              "      <td>2.108580</td>\n",
              "      <td>2.119797</td>\n",
              "      <td>2.099203</td>\n",
              "      <td>2.164946</td>\n",
              "      <td>7.141062</td>\n",
              "      <td>1.476683</td>\n",
              "      <td>2.688778</td>\n",
              "      <td>12.497221</td>\n",
              "      <td>0.010632</td>\n",
              "    </tr>\n",
              "    <tr>\n",
              "      <th>min</th>\n",
              "      <td>5.000000</td>\n",
              "      <td>0.006320</td>\n",
              "      <td>30.460000</td>\n",
              "      <td>0.385000</td>\n",
              "      <td>3.561000</td>\n",
              "      <td>2.900000</td>\n",
              "      <td>1.130000</td>\n",
              "      <td>0.920000</td>\n",
              "      <td>1.150000</td>\n",
              "      <td>0.730000</td>\n",
              "      <td>18.000000</td>\n",
              "      <td>1.730000</td>\n",
              "      <td>5.268000</td>\n",
              "      <td>10.057600</td>\n",
              "      <td>6.000000</td>\n",
              "      <td>0.033292</td>\n",
              "    </tr>\n",
              "    <tr>\n",
              "      <th>25%</th>\n",
              "      <td>17.025000</td>\n",
              "      <td>0.082045</td>\n",
              "      <td>35.190000</td>\n",
              "      <td>0.449000</td>\n",
              "      <td>5.885500</td>\n",
              "      <td>45.025000</td>\n",
              "      <td>2.270000</td>\n",
              "      <td>1.940000</td>\n",
              "      <td>2.232500</td>\n",
              "      <td>1.940000</td>\n",
              "      <td>19.800000</td>\n",
              "      <td>6.950000</td>\n",
              "      <td>6.634500</td>\n",
              "      <td>11.189800</td>\n",
              "      <td>28.000000</td>\n",
              "      <td>0.046464</td>\n",
              "    </tr>\n",
              "    <tr>\n",
              "      <th>50%</th>\n",
              "      <td>21.200000</td>\n",
              "      <td>0.256510</td>\n",
              "      <td>39.690000</td>\n",
              "      <td>0.538000</td>\n",
              "      <td>6.208500</td>\n",
              "      <td>77.500000</td>\n",
              "      <td>3.385000</td>\n",
              "      <td>3.010000</td>\n",
              "      <td>3.375000</td>\n",
              "      <td>3.070000</td>\n",
              "      <td>20.950000</td>\n",
              "      <td>11.360000</td>\n",
              "      <td>7.999000</td>\n",
              "      <td>12.720000</td>\n",
              "      <td>39.000000</td>\n",
              "      <td>0.053507</td>\n",
              "    </tr>\n",
              "    <tr>\n",
              "      <th>75%</th>\n",
              "      <td>25.000000</td>\n",
              "      <td>3.677082</td>\n",
              "      <td>48.100000</td>\n",
              "      <td>0.624000</td>\n",
              "      <td>6.623500</td>\n",
              "      <td>94.075000</td>\n",
              "      <td>5.367500</td>\n",
              "      <td>4.992500</td>\n",
              "      <td>5.407500</td>\n",
              "      <td>4.985000</td>\n",
              "      <td>22.600000</td>\n",
              "      <td>16.955000</td>\n",
              "      <td>9.088000</td>\n",
              "      <td>14.170800</td>\n",
              "      <td>50.000000</td>\n",
              "      <td>0.061397</td>\n",
              "    </tr>\n",
              "    <tr>\n",
              "      <th>max</th>\n",
              "      <td>50.000000</td>\n",
              "      <td>88.976200</td>\n",
              "      <td>57.740000</td>\n",
              "      <td>0.871000</td>\n",
              "      <td>8.780000</td>\n",
              "      <td>100.000000</td>\n",
              "      <td>12.320000</td>\n",
              "      <td>11.930000</td>\n",
              "      <td>12.320000</td>\n",
              "      <td>11.940000</td>\n",
              "      <td>27.400000</td>\n",
              "      <td>37.970000</td>\n",
              "      <td>10.876000</td>\n",
              "      <td>46.198560</td>\n",
              "      <td>60.000000</td>\n",
              "      <td>0.086711</td>\n",
              "    </tr>\n",
              "  </tbody>\n",
              "</table>\n",
              "</div>"
            ],
            "text/plain": [
              "            price  crime_rate  resid_area  ...  n_hot_rooms    rainfall       parks\n",
              "count  506.000000  506.000000  506.000000  ...   506.000000  506.000000  506.000000\n",
              "mean    22.528854    3.613524   41.136779  ...    12.864050   39.187747    0.054454\n",
              "std      9.182176    8.601545    6.860353  ...     2.688778   12.497221    0.010632\n",
              "min      5.000000    0.006320   30.460000  ...    10.057600    6.000000    0.033292\n",
              "25%     17.025000    0.082045   35.190000  ...    11.189800   28.000000    0.046464\n",
              "50%     21.200000    0.256510   39.690000  ...    12.720000   39.000000    0.053507\n",
              "75%     25.000000    3.677082   48.100000  ...    14.170800   50.000000    0.061397\n",
              "max     50.000000   88.976200   57.740000  ...    46.198560   60.000000    0.086711\n",
              "\n",
              "[8 rows x 16 columns]"
            ]
          },
          "metadata": {
            "tags": []
          },
          "execution_count": 31
        }
      ]
    },
    {
      "cell_type": "code",
      "metadata": {
        "id": "ZBl9r0Kcs-W9",
        "colab_type": "code",
        "colab": {}
      },
      "source": [
        "df.n_hos_beds = df.n_hos_beds.fillna(df.n_hos_beds.mean())"
      ],
      "execution_count": null,
      "outputs": []
    },
    {
      "cell_type": "code",
      "metadata": {
        "id": "ArBvkq_nuvsa",
        "colab_type": "code",
        "colab": {
          "base_uri": "https://localhost:8080/",
          "height": 357
        },
        "outputId": "22ec6a36-45b1-4c62-bb56-8420f04ecf85"
      },
      "source": [
        "df.isnull().sum()"
      ],
      "execution_count": null,
      "outputs": [
        {
          "output_type": "execute_result",
          "data": {
            "text/plain": [
              "price          0\n",
              "crime_rate     0\n",
              "resid_area     0\n",
              "air_qual       0\n",
              "room_num       0\n",
              "age            0\n",
              "dist1          0\n",
              "dist2          0\n",
              "dist3          0\n",
              "dist4          0\n",
              "teachers       0\n",
              "poor_prop      0\n",
              "airport        0\n",
              "n_hos_beds     0\n",
              "n_hot_rooms    0\n",
              "waterbody      0\n",
              "rainfall       0\n",
              "bus_ter        0\n",
              "parks          0\n",
              "dtype: int64"
            ]
          },
          "metadata": {
            "tags": []
          },
          "execution_count": 33
        }
      ]
    },
    {
      "cell_type": "code",
      "metadata": {
        "id": "bSm6sDvBuzmw",
        "colab_type": "code",
        "colab": {
          "base_uri": "https://localhost:8080/",
          "height": 441
        },
        "outputId": "7e26865e-7170-408b-8ee7-b64b0d5d393d"
      },
      "source": [
        "sns.jointplot(x='crime_rate',y='price',data=df)\n",
        "plt.show()"
      ],
      "execution_count": 36,
      "outputs": [
        {
          "output_type": "display_data",
          "data": {
            "image/png": "[encoded data removed]",
            "text/plain": [
              "<Figure size 432x432 with 3 Axes>"
            ]
          },
          "metadata": {
            "tags": [],
            "needs_background": "light"
          }
        }
      ]
    },
    {
      "cell_type": "code",
      "metadata": {
        "id": "tntdDOXNn9tN",
        "colab_type": "code",
        "colab": {}
      },
      "source": [
        "df.crime_rate = np.log(1 + df.crime_rate)"
      ],
      "execution_count": 37,
      "outputs": []
    },
    {
      "cell_type": "code",
      "metadata": {
        "id": "iVskeGMiogpK",
        "colab_type": "code",
        "colab": {
          "base_uri": "https://localhost:8080/",
          "height": 441
        },
        "outputId": "0503a5a7-1ffe-41d2-810b-5ba36ef614f7"
      },
      "source": [
        "sns.jointplot(x='crime_rate',y='price',data=df)\n",
        "plt.show()"
      ],
      "execution_count": 38,
      "outputs": [
        {
          "output_type": "display_data",
          "data": {
            "image/png": "[encoded data removed]",
            "text/plain": [
              "<Figure size 432x432 with 3 Axes>"
            ]
          },
          "metadata": {
            "tags": [],
            "needs_background": "light"
          }
        }
      ]
    },
    {
      "cell_type": "code",
      "metadata": {
        "id": "T-brHK93ojgl",
        "colab_type": "code",
        "colab": {}
      },
      "source": [
        "df['avg_dist'] = (df.dist1+df.dist2+df.dist3+df.dist4)/4"
      ],
      "execution_count": 39,
      "outputs": []
    },
    {
      "cell_type": "code",
      "metadata": {
        "id": "Rl9b4mmCpQj6",
        "colab_type": "code",
        "colab": {
          "base_uri": "https://localhost:8080/",
          "height": 119
        },
        "outputId": "d58b1491-3a1a-4104-fe2b-1d3d4d2b8b71"
      },
      "source": [
        "df['avg_dist'].head()"
      ],
      "execution_count": 40,
      "outputs": [
        {
          "output_type": "execute_result",
          "data": {
            "text/plain": [
              "0    4.0875\n",
              "1    4.9675\n",
              "2    4.9675\n",
              "3    6.0650\n",
              "4    6.0625\n",
              "Name: avg_dist, dtype: float64"
            ]
          },
          "metadata": {
            "tags": []
          },
          "execution_count": 40
        }
      ]
    },
    {
      "cell_type": "code",
      "metadata": {
        "id": "8QjzYN7fpUq6",
        "colab_type": "code",
        "colab": {}
      },
      "source": [
        "del df['dist1']"
      ],
      "execution_count": 41,
      "outputs": []
    },
    {
      "cell_type": "code",
      "metadata": {
        "id": "xNHZYkNnp8Q4",
        "colab_type": "code",
        "colab": {}
      },
      "source": [
        "del df['dist2']"
      ],
      "execution_count": 42,
      "outputs": []
    },
    {
      "cell_type": "code",
      "metadata": {
        "id": "lkGyhI35p_IE",
        "colab_type": "code",
        "colab": {}
      },
      "source": [
        "del df['dist3']"
      ],
      "execution_count": 43,
      "outputs": []
    },
    {
      "cell_type": "code",
      "metadata": {
        "id": "Qj-6a7tQqAV7",
        "colab_type": "code",
        "colab": {}
      },
      "source": [
        "del df['dist4']"
      ],
      "execution_count": 44,
      "outputs": []
    },
    {
      "cell_type": "code",
      "metadata": {
        "id": "rzl9w9EkqBjM",
        "colab_type": "code",
        "colab": {
          "base_uri": "https://localhost:8080/",
          "height": 317
        },
        "outputId": "7d0b456a-98bc-4982-d4f4-9b2966162128"
      },
      "source": [
        "df.describe()"
      ],
      "execution_count": 45,
      "outputs": [
        {
          "output_type": "execute_result",
          "data": {
            "text/html": [
              "<div>\n",
              "<style scoped>\n",
              "    .dataframe tbody tr th:only-of-type {\n",
              "        vertical-align: middle;\n",
              "    }\n",
              "\n",
              "    .dataframe tbody tr th {\n",
              "        vertical-align: top;\n",
              "    }\n",
              "\n",
              "    .dataframe thead th {\n",
              "        text-align: right;\n",
              "    }\n",
              "</style>\n",
              "<table border=\"1\" class=\"dataframe\">\n",
              "  <thead>\n",
              "    <tr style=\"text-align: right;\">\n",
              "      <th></th>\n",
              "      <th>price</th>\n",
              "      <th>crime_rate</th>\n",
              "      <th>resid_area</th>\n",
              "      <th>air_qual</th>\n",
              "      <th>room_num</th>\n",
              "      <th>age</th>\n",
              "      <th>teachers</th>\n",
              "      <th>poor_prop</th>\n",
              "      <th>n_hos_beds</th>\n",
              "      <th>n_hot_rooms</th>\n",
              "      <th>rainfall</th>\n",
              "      <th>parks</th>\n",
              "      <th>avg_dist</th>\n",
              "    </tr>\n",
              "  </thead>\n",
              "  <tbody>\n",
              "    <tr>\n",
              "      <th>count</th>\n",
              "      <td>506.000000</td>\n",
              "      <td>506.000000</td>\n",
              "      <td>506.000000</td>\n",
              "      <td>506.000000</td>\n",
              "      <td>506.000000</td>\n",
              "      <td>506.000000</td>\n",
              "      <td>506.000000</td>\n",
              "      <td>506.000000</td>\n",
              "      <td>506.000000</td>\n",
              "      <td>506.000000</td>\n",
              "      <td>506.000000</td>\n",
              "      <td>506.000000</td>\n",
              "      <td>506.000000</td>\n",
              "    </tr>\n",
              "    <tr>\n",
              "      <th>mean</th>\n",
              "      <td>22.528854</td>\n",
              "      <td>0.813418</td>\n",
              "      <td>41.136779</td>\n",
              "      <td>0.554695</td>\n",
              "      <td>6.284634</td>\n",
              "      <td>68.574901</td>\n",
              "      <td>21.544466</td>\n",
              "      <td>12.653063</td>\n",
              "      <td>7.899767</td>\n",
              "      <td>12.864050</td>\n",
              "      <td>39.187747</td>\n",
              "      <td>0.054454</td>\n",
              "      <td>3.795104</td>\n",
              "    </tr>\n",
              "    <tr>\n",
              "      <th>std</th>\n",
              "      <td>9.182176</td>\n",
              "      <td>1.022731</td>\n",
              "      <td>6.860353</td>\n",
              "      <td>0.115878</td>\n",
              "      <td>0.702617</td>\n",
              "      <td>28.148861</td>\n",
              "      <td>2.164946</td>\n",
              "      <td>7.141062</td>\n",
              "      <td>1.464939</td>\n",
              "      <td>2.688778</td>\n",
              "      <td>12.497221</td>\n",
              "      <td>0.010632</td>\n",
              "      <td>2.105859</td>\n",
              "    </tr>\n",
              "    <tr>\n",
              "      <th>min</th>\n",
              "      <td>5.000000</td>\n",
              "      <td>0.006300</td>\n",
              "      <td>30.460000</td>\n",
              "      <td>0.385000</td>\n",
              "      <td>3.561000</td>\n",
              "      <td>2.900000</td>\n",
              "      <td>18.000000</td>\n",
              "      <td>1.730000</td>\n",
              "      <td>5.268000</td>\n",
              "      <td>10.057600</td>\n",
              "      <td>6.000000</td>\n",
              "      <td>0.033292</td>\n",
              "      <td>1.127500</td>\n",
              "    </tr>\n",
              "    <tr>\n",
              "      <th>25%</th>\n",
              "      <td>17.025000</td>\n",
              "      <td>0.078853</td>\n",
              "      <td>35.190000</td>\n",
              "      <td>0.449000</td>\n",
              "      <td>5.885500</td>\n",
              "      <td>45.025000</td>\n",
              "      <td>19.800000</td>\n",
              "      <td>6.950000</td>\n",
              "      <td>6.659000</td>\n",
              "      <td>11.189800</td>\n",
              "      <td>28.000000</td>\n",
              "      <td>0.046464</td>\n",
              "      <td>2.100625</td>\n",
              "    </tr>\n",
              "    <tr>\n",
              "      <th>50%</th>\n",
              "      <td>21.200000</td>\n",
              "      <td>0.228336</td>\n",
              "      <td>39.690000</td>\n",
              "      <td>0.538000</td>\n",
              "      <td>6.208500</td>\n",
              "      <td>77.500000</td>\n",
              "      <td>20.950000</td>\n",
              "      <td>11.360000</td>\n",
              "      <td>7.963000</td>\n",
              "      <td>12.720000</td>\n",
              "      <td>39.000000</td>\n",
              "      <td>0.053507</td>\n",
              "      <td>3.207500</td>\n",
              "    </tr>\n",
              "    <tr>\n",
              "      <th>75%</th>\n",
              "      <td>25.000000</td>\n",
              "      <td>1.542674</td>\n",
              "      <td>48.100000</td>\n",
              "      <td>0.624000</td>\n",
              "      <td>6.623500</td>\n",
              "      <td>94.075000</td>\n",
              "      <td>22.600000</td>\n",
              "      <td>16.955000</td>\n",
              "      <td>9.076000</td>\n",
              "      <td>14.170800</td>\n",
              "      <td>50.000000</td>\n",
              "      <td>0.061397</td>\n",
              "      <td>5.187500</td>\n",
              "    </tr>\n",
              "    <tr>\n",
              "      <th>max</th>\n",
              "      <td>50.000000</td>\n",
              "      <td>4.499545</td>\n",
              "      <td>57.740000</td>\n",
              "      <td>0.871000</td>\n",
              "      <td>8.780000</td>\n",
              "      <td>100.000000</td>\n",
              "      <td>27.400000</td>\n",
              "      <td>37.970000</td>\n",
              "      <td>10.876000</td>\n",
              "      <td>46.198560</td>\n",
              "      <td>60.000000</td>\n",
              "      <td>0.086711</td>\n",
              "      <td>12.127500</td>\n",
              "    </tr>\n",
              "  </tbody>\n",
              "</table>\n",
              "</div>"
            ],
            "text/plain": [
              "            price  crime_rate  resid_area  ...    rainfall       parks    avg_dist\n",
              "count  506.000000  506.000000  506.000000  ...  506.000000  506.000000  506.000000\n",
              "mean    22.528854    0.813418   41.136779  ...   39.187747    0.054454    3.795104\n",
              "std      9.182176    1.022731    6.860353  ...   12.497221    0.010632    2.105859\n",
              "min      5.000000    0.006300   30.460000  ...    6.000000    0.033292    1.127500\n",
              "25%     17.025000    0.078853   35.190000  ...   28.000000    0.046464    2.100625\n",
              "50%     21.200000    0.228336   39.690000  ...   39.000000    0.053507    3.207500\n",
              "75%     25.000000    1.542674   48.100000  ...   50.000000    0.061397    5.187500\n",
              "max     50.000000    4.499545   57.740000  ...   60.000000    0.086711   12.127500\n",
              "\n",
              "[8 rows x 13 columns]"
            ]
          },
          "metadata": {
            "tags": []
          },
          "execution_count": 45
        }
      ]
    },
    {
      "cell_type": "code",
      "metadata": {
        "id": "3GX1NUCMqEWS",
        "colab_type": "code",
        "colab": {}
      },
      "source": [
        "del df['bus_ter']"
      ],
      "execution_count": 46,
      "outputs": []
    },
    {
      "cell_type": "code",
      "metadata": {
        "id": "qwgx-_vrqYTJ",
        "colab_type": "code",
        "colab": {}
      },
      "source": [
        ""
      ],
      "execution_count": null,
      "outputs": []
    }
  ]
}